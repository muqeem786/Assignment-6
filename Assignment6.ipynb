{
 "cells": [
  {
   "cell_type": "code",
   "execution_count": 1,
   "id": "346f5365-8b07-42ee-b213-0c66adbd52a9",
   "metadata": {},
   "outputs": [],
   "source": [
    "# Question 1 - Expalin Class and Object with respect to Object-Oriented Programming.Give a suitable example"
   ]
  },
  {
   "cell_type": "code",
   "execution_count": 2,
   "id": "043cb611-e8c8-4063-9963-90c84bc6917a",
   "metadata": {},
   "outputs": [
    {
     "name": "stdout",
     "output_type": "stream",
     "text": [
      "5\n"
     ]
    }
   ],
   "source": [
    "#Answer.  Object - objects have states and behaviors. Example: A dog has states - color,name,breed as well as behaviors - wagging the tail,barking,eating.An Object is an instance of a class\n",
    "#         Class - A Class can be defined as a template/blueprint that describes the behavior/state that the object of its type support.\n",
    "# Example\n",
    "class MyClass :\n",
    "    x=5\n",
    "    \n",
    "p1 = MyClass()\n",
    "print(p1.x)\n"
   ]
  },
  {
   "cell_type": "code",
   "execution_count": 3,
   "id": "32edfd79-21cb-4be5-9fa4-be68b2d933ff",
   "metadata": {},
   "outputs": [],
   "source": [
    "# Question 2 - Name the four pillars of OOPs"
   ]
  },
  {
   "cell_type": "code",
   "execution_count": 4,
   "id": "afb8034d-3062-4994-979b-67ea04c20319",
   "metadata": {},
   "outputs": [],
   "source": [
    "#Answer - These principles are called the four pillars OOPs.These four pillars are Inheritance, Polymorphism, Encapsulation and Abstraction."
   ]
  },
  {
   "cell_type": "code",
   "execution_count": 5,
   "id": "b6a490d7-4545-4f23-86b0-676204ab2fe0",
   "metadata": {},
   "outputs": [],
   "source": [
    "# Question 3 - Expalin why the __init__() function is used.Give a suitable example."
   ]
  },
  {
   "cell_type": "code",
   "execution_count": 6,
   "id": "653bf1f6-f6d6-4141-b31a-eb817de01d5c",
   "metadata": {},
   "outputs": [
    {
     "name": "stdout",
     "output_type": "stream",
     "text": [
      "Max\n",
      "36\n"
     ]
    }
   ],
   "source": [
    "#Answer- All  classes have a function called __init__(),which is always executed when the class is being initiated.Use the __init__() function to assign value to object properties or other operation that are necessary to do when the object is being.\n",
    "# Example\n",
    "class Person:\n",
    "    def __init__(self ,name ,age):\n",
    "        self.name = name\n",
    "        self.age = age\n",
    "p1 = Person(\"Max\",36)\n",
    "print(p1.name)\n",
    "print(p1.age)\n",
    "        \n",
    "    "
   ]
  },
  {
   "cell_type": "code",
   "execution_count": 7,
   "id": "f070c6e8-f7ef-4e67-9cf0-3484de2545e5",
   "metadata": {},
   "outputs": [],
   "source": [
    "# Question 4 - Why self is used in OOPs?\n"
   ]
  },
  {
   "cell_type": "code",
   "execution_count": 8,
   "id": "1fb2ae62-e7e2-4e86-8cbc-da6c8f0bf9f1",
   "metadata": {},
   "outputs": [],
   "source": [
    "#Answer - The self variable is used to represent the instance of the class which is often used in OOPs.It work as a reference to the object."
   ]
  },
  {
   "cell_type": "code",
   "execution_count": 9,
   "id": "06295820-5c39-454d-84ba-5bc468656a94",
   "metadata": {},
   "outputs": [],
   "source": [
    "# Question 5 - What is Inheritance? Give an example for each type of inheritance."
   ]
  },
  {
   "cell_type": "code",
   "execution_count": null,
   "id": "b10f43e7-b855-4d0f-b696-da8340b06110",
   "metadata": {},
   "outputs": [],
   "source": [
    "#Answer - Inheritance is a mechanism in which one class acquires the property of another class.\n",
    "# For example, a child inherits the the traits of his/her parents.With inheritance,we can reuse the field and method of the existing class.\n",
    "# Hence inheritance facilitates Reusability and is an important concept of OOPs.\n",
    "# Example\n",
    "class Parent :\n",
    "    def func1(self):\n",
    "        print(\"This function is in parent class.\")\n",
    "        \n",
    "class Child(Parent):\n",
    "    def func2(self):\n",
    "        print(\"This function is in child class.\")\n",
    "object = Ch        \n",
    "        "
   ]
  }
 ],
 "metadata": {
  "kernelspec": {
   "display_name": "Python 3 (ipykernel)",
   "language": "python",
   "name": "python3"
  },
  "language_info": {
   "codemirror_mode": {
    "name": "ipython",
    "version": 3
   },
   "file_extension": ".py",
   "mimetype": "text/x-python",
   "name": "python",
   "nbconvert_exporter": "python",
   "pygments_lexer": "ipython3",
   "version": "3.10.8"
  }
 },
 "nbformat": 4,
 "nbformat_minor": 5
}
